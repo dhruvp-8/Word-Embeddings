{
 "cells": [
  {
   "cell_type": "markdown",
   "metadata": {},
   "source": [
    "# Training the HindiMonoCorp corpus with Word2Vec and finding vector form of word"
   ]
  },
  {
   "cell_type": "code",
   "execution_count": 3,
   "metadata": {},
   "outputs": [],
   "source": [
    "from gensim.models import Word2Vec\n",
    "import os"
   ]
  },
  {
   "cell_type": "code",
   "execution_count": 4,
   "metadata": {},
   "outputs": [],
   "source": [
    "class MySentences(object):\n",
    "    def __init__(self,dirname):\n",
    "        self.dirname = dirname\n",
    "    def __iter__(self):\n",
    "        for line in open(os.path.join(self.dirname,\"hindmonocorp05.plaintext\"),encoding=\"utf8\"):\n",
    "            x = line.split()\n",
    "            del x[0:2]\n",
    "            yield x"
   ]
  },
  {
   "cell_type": "code",
   "execution_count": 5,
   "metadata": {},
   "outputs": [],
   "source": [
    "sentences = MySentences(\"D:\\IITB\\Research Papers\\Word Embedding\\corpora\")"
   ]
  },
  {
   "cell_type": "code",
   "execution_count": 6,
   "metadata": {},
   "outputs": [],
   "source": [
    "j=0\n",
    "list1 = []\n",
    "for i in sentences:\n",
    "    j+=1\n",
    "    if j<1000:\n",
    "        list1.append(i)\n",
    "    else:\n",
    "        break\n",
    "list1 = iter(list1)\n",
    "#for i in iter1:\n",
    "#    print(i)"
   ]
  },
  {
   "cell_type": "code",
   "execution_count": 7,
   "metadata": {},
   "outputs": [
    {
     "name": "stdout",
     "output_type": "stream",
     "text": [
      "Word2Vec(vocab=472, size=100, alpha=0.025)\n"
     ]
    }
   ],
   "source": [
    "model = Word2Vec(list1)\n",
    "print(model)"
   ]
  },
  {
   "cell_type": "code",
   "execution_count": 8,
   "metadata": {},
   "outputs": [],
   "source": [
    "model.save(\"hundred_sent_model\")"
   ]
  },
  {
   "cell_type": "code",
   "execution_count": 9,
   "metadata": {},
   "outputs": [],
   "source": [
    "model = Word2Vec.load(\"hundred_sent_model\")\n",
    "#we can train more by provining more sentences and calling \"model.train(more_sentences)\""
   ]
  },
  {
   "cell_type": "code",
   "execution_count": 10,
   "metadata": {},
   "outputs": [
    {
     "data": {
      "text/plain": [
       "array([ 0.00278322, -0.00299451,  0.00081573,  0.00215148,  0.00093587,\n",
       "       -0.00174173,  0.00244762,  0.00173953,  0.00299944, -0.00200685,\n",
       "       -0.00279837,  0.00250439, -0.00403689,  0.00336704,  0.00136598,\n",
       "       -0.0028989 ,  0.0040763 , -0.00323478, -0.00440619,  0.00275904,\n",
       "       -0.00408947, -0.00472545, -0.00444254, -0.00136687, -0.0024412 ,\n",
       "       -0.00079683,  0.00350812, -0.00377266, -0.00022315, -0.00495379,\n",
       "        0.00349691, -0.0038776 , -0.0041776 , -0.00245174,  0.00259625,\n",
       "       -0.00112522,  0.00481577, -0.00390845, -0.0024867 ,  0.00406881,\n",
       "       -0.00246964,  0.00297677,  0.00330488,  0.00288916,  0.0005391 ,\n",
       "        0.00326276, -0.00373799,  0.00295433,  0.00401386,  0.00358444,\n",
       "       -0.00358406,  0.00161421, -0.00068724,  0.00314573,  0.00165482,\n",
       "        0.00223085, -0.00126552, -0.00400336,  0.00161615, -0.00190475,\n",
       "        0.0006465 ,  0.00302853,  0.00131861,  0.00296469, -0.00203177,\n",
       "       -0.00214989, -0.00098278,  0.00324071, -0.00362262, -0.00386827,\n",
       "       -0.00168808,  0.00116953, -0.00057329,  0.00146295,  0.00082813,\n",
       "       -0.00241889, -0.00274664, -0.00048139, -0.00076097, -0.00133012,\n",
       "        0.00169064,  0.00499509,  0.00059788, -0.00167812, -0.00240145,\n",
       "        0.00103371, -0.00128888, -0.00424927,  0.00439866, -0.00217105,\n",
       "        0.00180333,  0.00082356,  0.00206172,  0.00330361,  0.00248409,\n",
       "       -0.00107518, -0.00114307, -0.0028742 , -0.0003001 , -0.002494  ],\n",
       "      dtype=float32)"
      ]
     },
     "execution_count": 10,
     "metadata": {},
     "output_type": "execute_result"
    }
   ],
   "source": [
    "model.wv['है।']"
   ]
  },
  {
   "cell_type": "code",
   "execution_count": null,
   "metadata": {},
   "outputs": [],
   "source": []
  }
 ],
 "metadata": {
  "kernelspec": {
   "display_name": "Python 3",
   "language": "python",
   "name": "python3"
  },
  "language_info": {
   "codemirror_mode": {
    "name": "ipython",
    "version": 3
   },
   "file_extension": ".py",
   "mimetype": "text/x-python",
   "name": "python",
   "nbconvert_exporter": "python",
   "pygments_lexer": "ipython3",
   "version": "3.6.4"
  }
 },
 "nbformat": 4,
 "nbformat_minor": 2
}
