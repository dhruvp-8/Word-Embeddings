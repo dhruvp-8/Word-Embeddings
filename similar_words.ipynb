{
 "cells": [
  {
   "cell_type": "markdown",
   "metadata": {},
   "source": [
    "# Finding most similar word using Word2Vec for Hindi Corpus and using IndoWordNet API"
   ]
  },
  {
   "cell_type": "code",
   "execution_count": 15,
   "metadata": {},
   "outputs": [],
   "source": [
    "from pyiwn import pyiwn\n",
    "from gensim.models import Word2Vec, KeyedVectors"
   ]
  },
  {
   "cell_type": "code",
   "execution_count": 16,
   "metadata": {},
   "outputs": [],
   "source": [
    "#loading corpus and training through in WOrd2Vec model\n",
    "model = Word2Vec.load('D:\\IITB\\Research Papers\\Word Embedding\\pretrained corpus\\hi.bin')"
   ]
  },
  {
   "cell_type": "code",
   "execution_count": 17,
   "metadata": {},
   "outputs": [],
   "source": [
    "#gives list of most similar words for word 'गाँव'\n",
    "list_similar_vec = model.wv.most_similar(positive=['गाँव'], topn = 20)"
   ]
  },
  {
   "cell_type": "code",
   "execution_count": 18,
   "metadata": {},
   "outputs": [
    {
     "name": "stdout",
     "output_type": "stream",
     "text": [
      "[('गांव', 0.6531105041503906), ('जिले', 0.6468613147735596), ('नैनीताल', 0.57286137342453), ('अल्मोड़ा', 0.5693769454956055), ('कस्बा', 0.5378852486610413), ('गाव', 0.5231934785842896), ('चम्पावत', 0.5168446898460388), ('बागेश्वर', 0.5036945343017578), ('पिथोरागढ', 0.5008495450019836), ('चमोली', 0.4946725070476532), ('पौड़ी', 0.4828590750694275), ('ग्राम', 0.4730623960494995), ('कस्बे', 0.4637562036514282), ('अनुमंडल', 0.4432528614997864), ('प्रखंड', 0.43108439445495605), ('परगने', 0.43027469515800476), ('बरवाड़ा', 0.4237307906150818), ('परगना', 0.4197480380535126), ('तालुका', 0.4195181131362915), ('क़स्बा', 0.4184471368789673)]\n"
     ]
    }
   ],
   "source": [
    "#priniting list of similar words along with their vectors\n",
    "print(list_similar_vec)"
   ]
  },
  {
   "cell_type": "code",
   "execution_count": 9,
   "metadata": {},
   "outputs": [],
   "source": [
    "list_similar = []\n",
    "for i in list_similar_vec:\n",
    "    list_similar.append(i[0])"
   ]
  },
  {
   "cell_type": "code",
   "execution_count": 10,
   "metadata": {},
   "outputs": [
    {
     "name": "stdout",
     "output_type": "stream",
     "text": [
      "['गांव', 'जिले', 'नैनीताल', 'अल्मोड़ा', 'कस्बा', 'गाव', 'चम्पावत', 'बागेश्वर', 'पिथोरागढ', 'चमोली', 'पौड़ी', 'ग्राम', 'कस्बे', 'अनुमंडल', 'प्रखंड', 'परगने', 'बरवाड़ा', 'परगना', 'तालुका', 'क़स्बा']\n"
     ]
    }
   ],
   "source": [
    "print(list_similar)"
   ]
  },
  {
   "cell_type": "code",
   "execution_count": 19,
   "metadata": {},
   "outputs": [
    {
     "name": "stdout",
     "output_type": "stream",
     "text": [
      "pyiwn supports the WordNets of the following languages: ['hindi', 'english', 'assamese', 'bengali', 'bodo', 'gujarati', 'kannada', 'kashmiri', 'konkani', 'malayalam', 'meitei', 'marathi', 'nepali', 'sanskrit', 'tamil', 'telugu', 'punjabi', 'urdu', 'oriya']\n"
     ]
    }
   ],
   "source": [
    "#number of languages present in IndoWordNet API\n",
    "print(pyiwn.langs())"
   ]
  },
  {
   "cell_type": "code",
   "execution_count": 20,
   "metadata": {},
   "outputs": [],
   "source": [
    "#loading Hindi language class\n",
    "iwn = pyiwn.IndoWordNet('hindi')"
   ]
  },
  {
   "cell_type": "code",
   "execution_count": 13,
   "metadata": {},
   "outputs": [
    {
     "name": "stdout",
     "output_type": "stream",
     "text": [
      "[Synset('गाँव.noun.4696'), Synset('गाँव.noun.26709')]\n",
      "[]\n",
      "[Synset('नैनीताल जिला.noun.25890'), Synset('नैनीताल.noun.25891')]\n",
      "[Synset('अल्मोड़ा जिला.noun.25881'), Synset('अल्मोड़ा.noun.25882')]\n",
      "[Synset('कस्बा.noun.14133'), Synset('कस्बा.noun.26708')]\n",
      "[]\n",
      "[Synset('चम्पावत जिला.noun.25886'), Synset('चम्पावत.noun.25887')]\n",
      "[Synset('बागेश्वर.noun.39504'), Synset('बागेश्वर जिला.noun.39505')]\n",
      "[]\n",
      "[Synset('चमोली.noun.25884'), Synset('चमोली जिला.noun.25883')]\n",
      "[Synset('सीढ़ी.noun.5823'), Synset('पौड़ी गढ़वाल जिला.noun.25892'), Synset('पौड़ी.noun.25893')]\n",
      "[Synset('ग्राम.noun.2052'), Synset('सप्तक.noun.4297'), Synset('गाँव.noun.4696'), Synset('गाँव.noun.26709')]\n",
      "[]\n",
      "[Synset('तहसील.noun.241')]\n",
      "[Synset('प्रखंड.noun.36237')]\n",
      "[]\n",
      "[]\n",
      "[Synset('परगना.noun.7480')]\n",
      "[Synset('तहसील.noun.241')]\n",
      "[Synset('कस्बा.noun.14133'), Synset('कस्बा.noun.26708')]\n"
     ]
    }
   ],
   "source": [
    "j=0\n",
    "for i in list_similar:\n",
    "    print(iwn.synsets(i))"
   ]
  },
  {
   "cell_type": "code",
   "execution_count": null,
   "metadata": {},
   "outputs": [],
   "source": []
  }
 ],
 "metadata": {
  "kernelspec": {
   "display_name": "Python 3",
   "language": "python",
   "name": "python3"
  },
  "language_info": {
   "codemirror_mode": {
    "name": "ipython",
    "version": 3
   },
   "file_extension": ".py",
   "mimetype": "text/x-python",
   "name": "python",
   "nbconvert_exporter": "python",
   "pygments_lexer": "ipython3",
   "version": "3.6.4"
  }
 },
 "nbformat": 4,
 "nbformat_minor": 2
}
